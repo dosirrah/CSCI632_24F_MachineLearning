{
 "cells": [
  {
   "cell_type": "markdown",
   "id": "face5a0f-e966-4f12-8928-ff1b08c067db",
   "metadata": {},
   "source": [
    "## Introducing Jupyter, LaTeX, Markdown, Python, Numpy, and Linear Algebra\n",
    "\n",
    "We will be using Google Colab and Jupyter Notebooks extensively within this course.\n",
    "\n",
    "Colab extends Jupyter Notebooks.  It derives from the same codebase.\n",
    "\n"
   ]
  },
  {
   "cell_type": "raw",
   "id": "62e2fccc-9803-4397-929c-97bb19709072",
   "metadata": {},
   "source": [
    "Cells can contain Python code, Markdown, or raw text."
   ]
  },
  {
   "cell_type": "code",
   "execution_count": 2,
   "id": "a152a637-5e7a-42f6-b475-196f52f329ae",
   "metadata": {},
   "outputs": [
    {
     "name": "stdout",
     "output_type": "stream",
     "text": [
      "Hello World\n"
     ]
    }
   ],
   "source": [
    "print(\"Hello World\")"
   ]
  },
  {
   "cell_type": "markdown",
   "id": "eb9b2c60-a394-42fd-8208-9a09fccd5cd0",
   "metadata": {},
   "source": [
    "### LaTeX Math\n",
    "\n",
    "With LaTeX I can create inline equations such as $x^2$ or $y= a \\cdot f(x)$ using a language designed specifically for representing mathematics.  $x^2$ is achieverd using `$x^2$`. $y= a \\cdot f(x)$ is achieved using `$y= a \\cdot f(x)$`. \n",
    "\n",
    "Equations can be set aside as a separate block (called a \"display equation\") using `$$`.\n",
    "\n",
    "$$\n",
    "\\frac{\\partial^2 u}{\\partial t^2} = c^2 \\nabla^2 u\n",
    "$$\n",
    "\n",
    "which was entered as \n",
    "\n",
    "        $$\n",
    "    \\frac{\\partial^2 u}{\\partial t^2} = c^2 \\nabla^2 u\n",
    "    $$"
   ]
  },
  {
   "cell_type": "markdown",
   "id": "c4bb65ad-8b2d-4844-b66f-2e9654f66354",
   "metadata": {},
   "source": [
    "## Notation\n",
    "\n",
    "\n",
    "Example              | Meaning\n",
    "---------------------|----------------------------------------------\n",
    "$a$                  |  scalar (integer or real number)\n",
    "$\\mathbf{a}$         |  vector\n",
    "$\\mathbfit{A}$       |  matrix\n",
    "$\\mathbfsf{A}$       |  tensor\n",
    "$\\mathbf{e}^{(i)}$   |  standard basis vector (i.e., one-hot vector)\n",
    "$\\mathbfit{A}^T$     |  tranpose of matrix $\\mathbf{A}$\n",
    "$\\mathbfit{A}_{i,j}$ |  element at $i^{th}$ row and $j^{th}$ column\n",
    "\n",
    "\n",
    "The table above attempts to follow Goodfellow's notation, although on\n",
    "a whiteboard it is difficult to distinguish fonts and bold face.  In\n",
    "handwriting I modify the notation above as follows:\n",
    "\n",
    "Example               | Meaning\n",
    "--------------------- | ----------------------------------------------\n",
    "$\\bar{a}$             | vector\n",
    "$A$                   | matrix\n",
    "$\\mathcal{A}$         | tensor (cursive letters)\n"
   ]
  },
  {
   "cell_type": "markdown",
   "id": "5b28df99-15fd-4fe3-b471-25f9634dc408",
   "metadata": {},
   "source": [
    "## Vectors in LaTeX\n",
    "\n",
    "$\\mathbf{a}$ is created by `$\\mathbf{a}$`.\n",
    "\n",
    "We can represent a vector as typically done in geometry and vector calculus:\n",
    "$$\n",
    "\\mathbf{a} = ( 1, 2, 5)\n",
    "$$\n",
    "\n",
    "Or in linear algebra as a column vector\n",
    "\n",
    "$$\n",
    "\\mathbf{a} = \\begin{bmatrix}\n",
    "1 \\\\\n",
    "2 \\\\\n",
    "5\n",
    "\\end{bmatrix}\n",
    "$$\n",
    "\n",
    "which was entered into this cell as \n",
    "\n",
    "        $$\n",
    "    \\mathbf{a} = \\begin{bmatrix}\n",
    "    1 \\\\\n",
    "    2 \\\\\n",
    "    5\n",
    "    \\end{bmatrix}\n",
    "    $$\n"
   ]
  },
  {
   "cell_type": "markdown",
   "id": "286c6e92-5b98-43d6-b84a-0325af2bbcd0",
   "metadata": {},
   "source": [
    "## Next time\n",
    "\n",
    "We will go into how to use Jupyter, Python, and numpy to represent vectors and matrices, \n",
    "and how to perform basic vector and matrix operations using numpy."
   ]
  }
 ],
 "metadata": {
  "kernelspec": {
   "display_name": "Python 3 (ipykernel)",
   "language": "python",
   "name": "python3"
  },
  "language_info": {
   "codemirror_mode": {
    "name": "ipython",
    "version": 3
   },
   "file_extension": ".py",
   "mimetype": "text/x-python",
   "name": "python",
   "nbconvert_exporter": "python",
   "pygments_lexer": "ipython3",
   "version": "3.11.7"
  }
 },
 "nbformat": 4,
 "nbformat_minor": 5
}
