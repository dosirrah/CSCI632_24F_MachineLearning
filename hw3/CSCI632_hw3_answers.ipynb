{
 "cells": [
  {
   "cell_type": "markdown",
   "id": "dff83ffe-c7d1-408f-9365-583348ca4741",
   "metadata": {},
   "source": [
    "# CSCI 632 Machine Learning Homework 3 with Answers"
   ]
  },
  {
   "cell_type": "markdown",
   "id": "c926f020-1b61-4642-a369-68c3765cddd9",
   "metadata": {},
   "source": [
    "**Clarification**\n",
    "\n",
    "In Problem 1(a), I changed what was requested \"Find the risk function for the case where the system chooses to classify the observation (i.e., no rejection), $R(\\alpha | \\mathbf{x}, \\text{choose})$\" to \"Find the risk function for the case where the system chooses to classify the observation (i.e., no rejection), $R(\\alpha_i | \\mathbf{x}, \\text{choose})$\" .  I believe this is clearer.\n",
    "\n",
    "**Correction 1**\n",
    "\n",
    "In Problem 1(a), I changed\n",
    "\n",
    "$$R(\\alpha_i|\\mathbf{x}, \\text{choose}) < R(\\alpha_i|\\mathbf{x}, \\text{reject})$$\n",
    "\n",
    "to\n",
    "\n",
    "$$R(\\alpha_i|\\mathbf{x}, \\text{choose}) \\leq R(\\alpha_i|\\mathbf{x}, \\text{reject})$$.\n",
    "\n",
    "Both rules will minimize risk, but this change causes the system to choose the class with label $\\omega_i$ when the risk is equal either way, which corresponds to choosing $\\omega_i$ when \n",
    "\n",
    "$$P(\\omega_i | \\mathbf{x}) \\geq 1 - \\frac{\\lambda_r}{\\lambda_s}$$\n",
    "\n",
    "**Correction 2**\n",
    "\n",
    "In Problem 2(e), compute $H(x)$ from $p=0.003$ from (c).  The reference to part (b) is incorrect.  (b) is a plot that\n",
    "does not specify $p$ and the value from (a) is unrelated to the $p$ value used to\n",
    "generate the input file. 2(e) was updated to reflect this change.\n"
   ]
  },
  {
   "cell_type": "markdown",
   "id": "b209aff2-88b1-44b0-b11f-9e2a3c6582e4",
   "metadata": {},
   "source": [
    "**Instructions**\n",
    "\n",
    "* **Insert all code, plots, results, and discussion** into this Jupyter Notebook.\n",
    "* Your homework should be submitted as a **single Jupyter Notebook** (.ipynb file).\n",
    "* While working, you use Google Colab by uploading this notebook and performing work there. Once complete, export the notebook as a Jupyter Notebook (.ipynb) and submit it to **Blackboard.**\n",
    "\n",
    "You can answer mathematical questions either by:\n",
    "* using LaTeX in a markdown cell, or\n",
    "* pasting a scanned or photographed handwritten answer."
   ]
  },
  {
   "cell_type": "markdown",
   "id": "83ea41b8-3c24-46a7-ba6a-47e7e3cca410",
   "metadata": {},
   "source": [
    "**Problem 1** (20 pts) Consider the problem of Automatic \n",
    "Content Recognition (ACR).  ACR aims to recognize content such as TV\n",
    "shows, movies, or sports. In this scenario, we treat each piece of\n",
    "content as a class in a multiclass classification problem, where there\n",
    "are $K$ known pieces of content. The content may be re-encoded multiple \n",
    "times during distribution to adapt to available bandwidth or loss\n",
    "characteristics, and may be subject to \"visual enhancements” by devices\n",
    "like set-top boxes or TVs, all of which introduce noise. Despite these\n",
    "distortions, the model must classify the content.\n",
    "\n",
    "Because video and audio are composed of a steady stream of frames or audio \n",
    "samples from which we generate feature vectors $\\textbf{x}(t)$ at points in time\n",
    "$t$, we are not forced to immediately make a decision.  Instead, the ACR system can\n",
    "choose to *reject* an observation as unrecognizable instead of\n",
    "misclassifying it. When the cost of rejection is low, it may be\n",
    "beneficial to reject an observation and wait for more data to\n",
    "improve classification accuracy.\n",
    "\n",
    "Let $\\lambda$ denote our loss function.\n",
    "\n",
    "\\begin{equation}\n",
    "\\lambda(\\alpha_i| \\omega_j) =\n",
    "\\begin{cases}\n",
    "  0 & i = j \\text{ for } i, j = 1, ..., K \\\\\n",
    "  \\lambda_r & i = K + 1 \\quad (\\text{rejection}) \\\\\n",
    "  \\lambda_s & \\text{if } i \\neq j \\quad (\\text{substitution}) \n",
    "\\end{cases}\n",
    "\\end{equation}\n",
    "\n",
    "where \n",
    "\n",
    "* $\\lambda_r$ is the loss incurred for rejecting the observation\n",
    "  (i.e., deciding to wait).  Let action $(K+1)$ denote rejection.\n",
    "* $\\lambda_s$ is the loss incurred for a substitution error (i.e.,\n",
    "  classifying the observation as the wrong content).\n"
   ]
  },
  {
   "cell_type": "markdown",
   "id": "4d1332e1-e7e4-42e6-ac0a-b9e80f7da886",
   "metadata": {},
   "source": [
    "**(a)** At decision time, the ACR system must either choose to classify the content into one of the known classes or reject the observation (i.e., postpone the decision). Find the risk function for the case where the system chooses to classify the observation (i.e., no rejection), $R(\\alpha_i | \\mathbf{x}, \\text{choose})$. The risk function represents the expected loss conditioned on the observation $\\mathbf{x}$ and the decision to classify."
   ]
  },
  {
   "cell_type": "markdown",
   "id": "269d4c5e-5ae6-4eb6-a819-b0ab3ebff5e3",
   "metadata": {},
   "source": [
    "**Answer (a)**\n",
    "\n",
    "$$R(\\alpha_i | \\mathbf{x}, \\text{ choose}) = \\sum_{j=1}^{K} \\lambda(\\alpha_i | \\omega_j) P(\\omega_j | \\mathbf{x})\\hspace{1in} (1.1)$$\n",
    "\n",
    "The summation only considers the risk when we choose some class and thus (1.1) does not include $K+1$ in the summation which would correspond to a rejection.  This is the risk for choosing $\\alpha_i$ when the true class is $\\omega_j$ weighted by the posterior probability that the true class is $\\omega_j$."
   ]
  },
  {
   "cell_type": "markdown",
   "id": "862f7506-5455-4ca5-84d7-2401b7bd68db",
   "metadata": {},
   "source": [
    "The above is a correct answer, but we can express this in terms of $\\lambda_r$ and $\\lambda_s$.\n",
    "\n",
    "\\begin{align}\n",
    "R(\\alpha_i | \\mathbf{x}, \\text{ choose}) &= \\sum_{j \\neq i} \\lambda(\\alpha_i | \\omega_j) P(\\omega_j | \\mathbf{x}) + \\lambda(\\alpha_i| \\omega_i) P(\\omega_i | \\mathbf{x})\\\\\n",
    "    &= \\sum_{j \\neq i} \\lambda_s P(\\omega_j | \\mathbf{x}) + 0 \\cdot P(\\omega_i | \\mathbf{x})\\\\\n",
    "    &= \\sum_{j \\neq i} \\lambda_s P(\\omega_j | \\mathbf{x}) \\\\\n",
    "    &= \\lambda_s \\sum_{j \\neq i} P(\\omega_j | \\mathbf{x}) \\hspace{1in} (1.2) \n",
    "\\end{align}\n",
    "\n",
    "Because the classes are mutually exclusive and collectively exhaustive we can apply the law of total probability such that\n",
    "\n",
    "$$ \\sum_{j\\neq i} P(\\omega_j | \\mathbf{x}) = 1 - P(\\omega_i | \\mathbf{x})\\hspace{1in} (1.3)$$"
   ]
  },
  {
   "cell_type": "markdown",
   "id": "0b99b60c-098c-4d81-8722-e3ea26fc12e4",
   "metadata": {},
   "source": [
    "Substituting (1.3) into (1.2) yields\n",
    "\n",
    "$$R(\\alpha_i | \\mathbf{x}, \\text{choose}) = \\lambda_s (1 - P(\\omega_i | \\mathbf{x}))$$"
   ]
  },
  {
   "cell_type": "markdown",
   "id": "e0bbc373-c92d-4184-b960-11c2566bdf80",
   "metadata": {},
   "source": [
    "**(b)** If the risk of classifying the content (i.e., choosing) exceeds the\n",
    "risk of rejecting the observation, then choosing will increase the overall\n",
    "risk. To minimize the risk, we should only choose to classify if:\n",
    "\n",
    "$$R(\\alpha_i|\\mathbf{x}, \\text{choose}) \\leq R(\\alpha_i|\\mathbf{x}, \\text{reject})$$\n",
    "\n",
    "Using this criterion, show that the minimum risk is obtained by classifying\n",
    "the observation as class $\\omega_i$ if:\n",
    "\n",
    "$$P(\\omega_i|\\mathbf{x}) \\geq P(\\omega_j|\\mathbf{x}) \\text{ for all } j \\neq i$$\n",
    "which means choosing the class with the highest posterior probability.\n",
    "Furthermore, show that we should classify the observation as $\\omega_i$ if\n",
    "\n",
    "$$P(\\omega_i | \\mathbf{x}) \\geq 1 - \\frac{\\lambda_r}{\\lambda_s}, $$\n",
    "\n",
    "and reject otherwise."
   ]
  },
  {
   "cell_type": "markdown",
   "id": "ad90bfba-3a0e-4956-902a-81265dc49ace",
   "metadata": {},
   "source": [
    "**Answer (b)**\n",
    "\n",
    "$R(\\alpha|\\mathbf{x}, \\text{reject}) = \\lambda_r$ because we know we chose reject and the cost is thus\n",
    "the same regardless of the true class.\n",
    "\n",
    "We thus minimize risk when we choose only if \n",
    "\n",
    "\\begin{align}\n",
    "  R(\\alpha_i|\\mathbf{x}, \\text{choose}) &\\leq \\lambda_r \\\\\n",
    "  \\lambda_s (1 - P(\\omega_i | \\mathbf{x})) &\\leq \\lambda_r \\\\\n",
    "  (1 - P(\\omega_i | \\mathbf{x})) &\\leq \\frac{\\lambda_r}{\\lambda_s} \\\\\n",
    "  P(\\omega_i | \\mathbf{x})) &\\geq 1-\\frac{\\lambda_r}{\\lambda_s}\\hspace{0.5in}\\hfill \\square\n",
    "\\end{align}\n"
   ]
  },
  {
   "cell_type": "markdown",
   "id": "2718973d-c8a3-42ef-9303-a2f9f3964285",
   "metadata": {},
   "source": [
    "**(c)** What happens to the decisions made when $\\lambda_r = 0$?\n",
    "\n",
    "**Answer (c)** Reject all except when the probability of class $\\omega_i$ is 1 for the given $\\mathbf{x}$.\n",
    "\n",
    "\"Reject all\" is also acceptable given that the problem was originally stated as \n",
    "showing $P(\\omega_i | \\mathbf{x}) > 1 - \\frac{\\lambda_r}{\\lambda_s}$."
   ]
  },
  {
   "cell_type": "markdown",
   "id": "fb1dd0cb-01d9-4099-a575-692a3b33383d",
   "metadata": {},
   "source": [
    "**(d)** What happens to the decisions made when $\\lambda_r > \\lambda_s$?"
   ]
  },
  {
   "cell_type": "markdown",
   "id": "bb6ce65e-e7c0-4de2-bce3-3e4425373018",
   "metadata": {},
   "source": [
    "**Answer (d)** Always decide.   If there the cost of rejecting is higher than the cost of misclassifying then always choose."
   ]
  },
  {
   "cell_type": "markdown",
   "id": "58401a72-e44b-44be-8123-d849e85352b5",
   "metadata": {},
   "source": [
    "**Problem 2**\n",
    "\n",
    "Given a source that outputs a sequence of zeros and ones.  Each zero or one is called a symbol.  \n",
    "In this problem, each symbol is independent of the others.  The probability of a 1 is given by\n",
    "$p$ and thus the probability of a zero is $1-p$.\n",
    "\n",
    "**(a)** Compute the Shannon entropy for $p=0.3$"
   ]
  },
  {
   "cell_type": "markdown",
   "id": "8ab4e952-9dab-44fc-8388-5f5d8f235dcc",
   "metadata": {},
   "source": [
    "**Answer (a)**\n",
    "\n",
    "\\begin{align}\n",
    "I(x) &= -\\log p(x) \\\\\n",
    "H(X) &= E[I(x)] = - \\sum_{x \\in X} P(x) \\log P(x)\\hspace{2in}(2.1)\n",
    "\\end{align}\n",
    "\n",
    "We have only two symbols so p = P(x=1) = 0.3. P(x=0) = 0.7.  Substitute these values in to (2.1) to get\n",
    "\n",
    "$$H(X) = -(0.3 \\log_2 0.3 + 0.7 \\log_2 0.7) \\approx 0.88 ~\\text{bits} $$ \n"
   ]
  },
  {
   "cell_type": "markdown",
   "id": "b3e0fece-fcf9-407d-bfbf-c896fe8744f2",
   "metadata": {},
   "source": [
    "**(b)** Plot the Shannon entropy in bits for many values of $p$ in the interval $[0,1]$."
   ]
  },
  {
   "cell_type": "code",
   "execution_count": 161,
   "id": "1f665056-527c-4fbc-ae96-ce846ee5146b",
   "metadata": {},
   "outputs": [
    {
     "data": {
      "image/png": "[encoded data removed]",
      "text/plain": [
       "<Figure size 640x480 with 1 Axes>"
      ]
     },
     "metadata": {},
     "output_type": "display_data"
    }
   ],
   "source": [
    "import matplotlib.pyplot as plt\n",
    "import numpy as np\n",
    "\n",
    "# Generate evenly spaced x values in the range [0, 1]\n",
    "p = np.linspace(0.0001, 0.9999, 100)\n",
    "h = -p * np.log2(p) - (1-p) * np.log2(1-p)\n",
    "plt.plot(p, h)\n",
    "plt.xlabel('p')\n",
    "plt.ylabel('H(X) in bits')\n",
    "plt.title('Entropy of a bit with P[1] = p for x ∈ [0, 1]')\n",
    "plt.show()"
   ]
  },
  {
   "cell_type": "markdown",
   "id": "c4ce037a-8f73-4325-a28e-bcb8aa1389e8",
   "metadata": {},
   "source": [
    "**(c)** Consecutive occurrences of the same symbol are called runs. `000001` is a run\n",
    "of 5 zeros followed by a 1.  *Run length encoding* \n",
    "is sometimes used when the input data is dominated by long runs of the same symbol.\n",
    "`AAABBBBBEEEE` would be encoded as `3A5B4E`. "
   ]
  },
  {
   "cell_type": "markdown",
   "id": "c5faa89d-0d2a-4f55-b3d6-26c977cbebdb",
   "metadata": {},
   "source": [
    "*Zero run length encoding* is a variant typically used with binary sequences\n",
    "in which the dominant symbol is zero.  We allocate a fixed length field $k$\n",
    "bits wide to denote the run length of consecutive zeros before a 1.  If all bits\n",
    "in the field are ones, this is a reserved value indicating an *incomplete run*.\n",
    "\n",
    "An *incomplete run* occurs when a run of zeros reaches the maximum length\n",
    "representable by the $k$-bit field, which is $2^k-1$, and continues with\n",
    "additional zeros without an intervening 1.  In this case, the next field \n",
    "encodes the length of the continued run.\n",
    "\n",
    "For example, if $k=4$, the zero run length encoding creates the given\n",
    "outputs for the input sequences shown in Table 1.\n",
    "\n",
    "$$\\text{Table 1}$$\n",
    "\n",
    "| input           |  output      | compression$\\dagger$ |  explanation                            |\n",
    "|-----------------|--------------|-------------|--------------------------------------------------|\n",
    "| 1               | 0000         | 1/4         | zero zeroes then 1                               |\n",
    "| 01              | 0001         | 1/2         | one zero then 1                                  |\n",
    "| 11              | 00000000     | 1/4         | 0 zeroes then 1, 0 zeros then 1                  |\n",
    "| 0000000001      | 1001         | 9/4=2.25    | $1001_2=9$, 9 zeroes then 1.                     |\n",
    "| 0010001         | 00100011     | 7/8         | $0010_2=2$ zeroes, $0011_2=3$ zeroes.            |\n",
    "| 32 zeros then 1 | 111111110010 | 33/12=2.75  | $15(1111_2) + 15(1111_2) + 2 = 32$ zeroes then 1 |\n",
    "\n",
    "\n",
    "$$\\dagger \\text{ compression ratio is } \\frac{\\text{uncompressed size}}{\\text{compressed size}}$$\n",
    "\n",
    "In the last row we reduce 33 input symbols to 12 output symbols.  This has a compression\n",
    "ratio of $33/12 = 2.75$\n",
    "\n",
    "For $p=0.003$, (i.e., the probability of a 1 is 0.3%), implement zero run length encoding.  "
   ]
  },
  {
   "cell_type": "code",
   "execution_count": 183,
   "id": "5d80b153-8493-4071-8dc4-5d249ac11fb4",
   "metadata": {},
   "outputs": [
    {
     "name": "stderr",
     "output_type": "stream",
     "text": [
      "test_3_percent (__main__.TestCompress.test_3_percent) ... ok\n",
      "test_complicated_decompression (__main__.TestCompress.test_complicated_decompression) ... ok\n",
      "test_decompression (__main__.TestCompress.test_decompression) ... ok\n",
      "test_edge_cases (__main__.TestCompress.test_edge_cases) ... ok\n",
      "test_more_complicated_cases (__main__.TestCompress.test_more_complicated_cases) ... ok\n",
      "test_p2c (__main__.TestCompress.test_p2c) ... ok\n",
      "test_simple_cases (__main__.TestCompress.test_simple_cases) ... ok\n",
      "test_decompress2 (__main__.TestCompress2.test_decompress2) ... ok\n",
      "test_edge_cases (__main__.TestCompress2.test_edge_cases) ... ok\n",
      "test_simple_cases (__main__.TestCompress2.test_simple_cases) ... ok\n",
      "\n",
      "----------------------------------------------------------------------\n",
      "Ran 10 tests in 0.068s\n",
      "\n",
      "OK\n"
     ]
    },
    {
     "data": {
      "text/plain": [
       "<unittest.main.TestProgram at 0x128f00c50>"
      ]
     },
     "execution_count": 183,
     "metadata": {},
     "output_type": "execute_result"
    }
   ],
   "source": [
    "import io\n",
    "import unittest\n",
    "import random\n",
    "\n",
    "def vassert(exp):\n",
    "    if not exp:\n",
    "        raise ValueError()\n",
    "\n",
    "    \n",
    "# I chose to follow the design pattern used by zlib and zstandard\n",
    "# which allows compression parameter to passed as an optional argument\n",
    "# to a compress method.\n",
    "#\n",
    "# Addendum: as described in the original problem, this encoding\n",
    "# doesn't handle termination properly if the file ends with a zero.\n",
    "# See the answer for Problem 2(g) for a solution that does.\n",
    "def compress(data: bytes, k: int = 4) -> bytes:\n",
    "    vassert(k > 0)\n",
    "    max_rl = 2**k-1\n",
    "    rl = 0\n",
    "    buffer = bytearray()\n",
    "    \n",
    "    for d in data:\n",
    "        c = chr(d)\n",
    "        if c == '0':\n",
    "            rl += 1\n",
    "            if rl == max_rl:\n",
    "                rlb = bin(rl)[2:].zfill(k).encode('ascii')\n",
    "                buffer.extend(rlb)\n",
    "                rl = 0\n",
    "        elif c == '1':\n",
    "            rlb = bin(rl)[2:].zfill(k).encode('ascii')\n",
    "            buffer.extend(rlb)\n",
    "            rl = 0\n",
    "    return bytes(buffer)\n",
    "\n",
    "def decompress(data: bytes, k: int = 4) -> bytes:\n",
    "    vassert(k > 0)\n",
    "    max_rl = 2**k-1\n",
    "    dio = io.BytesIO(data)\n",
    "    buffer = bytearray()\n",
    "    rlbytes = b\"\"\n",
    "    while True:\n",
    "        rlbytes = dio.read(k)\n",
    "        if len(rlbytes) == 0:  # EOF\n",
    "            break\n",
    "            \n",
    "        rl = int(rlbytes.decode('ascii'), 2)\n",
    "        buffer.extend(b\"0\"*rl)\n",
    "        if rl != max_rl:\n",
    "            buffer.append(ord(\"1\"))\n",
    "    return buffer        \n",
    "\n",
    "def create_buffer(size, percent_ones):\n",
    "    num_ones = int((percent_ones / 100) * (size - 1))  # Reserve 1 for the terminating '1'\n",
    "    num_zeros = size - 1 - num_ones  # Remaining space for zeros\n",
    "    buffer_list = ['1'] * num_ones + ['0'] * num_zeros\n",
    "\n",
    "    # Shuffle to randomize the placement of '1's and '0's\n",
    "    random.shuffle(buffer_list)\n",
    "\n",
    "    # Append a terminating '1'\n",
    "    buffer_list.append('1')\n",
    "\n",
    "    # Join the list into a byte string of ASCII characters\n",
    "    buffer = ''.join(buffer_list).encode('ascii')\n",
    "    return buffer\n",
    "\n",
    "class TestCompress(unittest.TestCase):\n",
    "    def test_edge_cases(self):\n",
    "        try:\n",
    "            compress(None)\n",
    "            self.assertTrue(False)\n",
    "        except:\n",
    "            pass\n",
    "\n",
    "        try:\n",
    "            compress(b\"010\", -1)\n",
    "            self.assertTrue(False)\n",
    "        except ValueError:\n",
    "            pass\n",
    "\n",
    "        buf = compress(b\"\")\n",
    "        self.assertEqual(len(buf), 0)\n",
    "\n",
    "    def test_simple_cases(self):\n",
    "        # This does not handle terminating edge condtion well. An ending 0000\n",
    "        buf = compress(b\"1\")\n",
    "        self.assertEqual(buf, b\"0000\")\n",
    "\n",
    "        buf = compress(b\"01\")\n",
    "        self.assertEqual(buf, b\"0001\")\n",
    "\n",
    "        buf = compress(b\"11\")\n",
    "        self.assertEqual(buf, b\"00000000\")\n",
    "\n",
    "    def test_more_complicated_cases(self):\n",
    "        buf = compress(b\"0000000001\")\n",
    "        self.assertEqual(buf, b\"1001\")\n",
    "        \n",
    "        buf = compress(b\"0\"*32 + b\"1\")\n",
    "        self.assertEqual(buf, b\"111111110010\")\n",
    "\n",
    "    def test_decompression(self):\n",
    "        self.assertEqual(decompress(compress(b\"1\")), b\"1\")\n",
    "        self.assertEqual(decompress(compress(b\"01\")), b\"01\")\n",
    "        self.assertEqual(decompress(compress(b\"11\")), b\"11\")\n",
    "\n",
    "    def test_complicated_decompression(self):\n",
    "        self.assertEqual(decompress(compress(b\"0000000001\")), b\"0000000001\")\n",
    "        self.assertEqual(decompress(compress(b\"0\"*32 + b\"1\")), b\"0\"*32 + b\"1\")\n",
    "\n",
    "    def test_3_percent(self):\n",
    "        buf = create_buffer(size=1000, percent_ones=3)\n",
    "        self.assertEqual(decompress(compress(buf)), buf)\n",
    "\n",
    "    def test_p2c(self):\n",
    "        with open(\"p2c.txt\", \"rb\") as fp:\n",
    "            buf = fp.read()\n",
    "        self.assertEqual(decompress(compress(buf)), buf)\n",
    "        \n",
    "unittest.main(argv=[''], verbosity=2, exit=False)       "
   ]
  },
  {
   "cell_type": "markdown",
   "id": "9ddd0049-447a-4180-a0df-51a46015ac31",
   "metadata": {},
   "source": [
    "I uploaded the file `p2c.txt.gz`.  Decompress this file using `gunzip` before using it."
   ]
  },
  {
   "cell_type": "code",
   "execution_count": 163,
   "id": "1910e359-a919-458b-9f25-60138984c0a5",
   "metadata": {},
   "outputs": [
    {
     "name": "stdout",
     "output_type": "stream",
     "text": [
      "working directory: /Users/dave/olemiss/CSCI632_24F_Instructor/hw3\n",
      "glob(\"*.txt\": ['p2c_zero_end.txt', 'p2c.txt', 'p2c_k4.txt']\n"
     ]
    }
   ],
   "source": [
    "import os\n",
    "import glob\n",
    "print(\"working directory:\", os.getcwd()) \n",
    "print(\"glob(\\\"*.txt\\\":\", glob.glob(\"*.txt\"))\n",
    "assert os.path.exists(\"p2c.txt\")"
   ]
  },
  {
   "cell_type": "markdown",
   "id": "a9fc0912-d659-4bfd-b359-b11578e9e27b",
   "metadata": {},
   "source": [
    "Use your compression algorithm to compress the data file `p2c.txt` that uses ASCII 0\n",
    "and 1 to denote zeros and ones.  Output the compressed text file with name `p2c_k4.txt`.\n",
    "The output file should use ASCII zeros and ones, but compress the data using zero run\n",
    "length encoding with k=4."
   ]
  },
  {
   "cell_type": "code",
   "execution_count": 164,
   "id": "b866199e-5cf8-44ca-96f2-ad8afc7a3d68",
   "metadata": {},
   "outputs": [],
   "source": [
    "with open(\"p2c.txt\", \"rb\") as fp:\n",
    "    data = fp.read()\n",
    "compressed = compress(data, k=4)\n",
    "assert  decompress(compressed, k=4) == data    \n",
    "with open(\"p2c_k4.txt\", \"wb\") as fp:\n",
    "    fp.write(compressed)\n"
   ]
  },
  {
   "cell_type": "markdown",
   "id": "c234839a-324a-4130-94d7-4df507115f7a",
   "metadata": {},
   "source": [
    "**(d)** Plot the compression ratio of `p2c.txt` using the zero run length encoder \n",
    "built in (c) as a function of $k$ for $k \\in (4, 16)$.  Put $k$ on the x-axis and\n",
    "compression ratio on the y-axis."
   ]
  },
  {
   "cell_type": "code",
   "execution_count": 165,
   "id": "37e09bd5-f38e-4f54-ad21-0c56e9799842",
   "metadata": {},
   "outputs": [
    {
     "data": {
      "image/png": "[encoded data removed]",
      "text/plain": [
       "<Figure size 800x600 with 1 Axes>"
      ]
     },
     "metadata": {},
     "output_type": "display_data"
    }
   ],
   "source": [
    "k_range = range(4,17)\n",
    "ratios = [len(data) / len(compress(data, k)) for k in range(4,17)]\n",
    "\n",
    "plt.figure(figsize=(8, 6))\n",
    "plt.plot(k_range, ratios, marker='o', linestyle='-', color='b')\n",
    "plt.title('Compression Ratio vs. k')\n",
    "plt.xlabel('k')\n",
    "plt.ylabel('Compressed Ratio')\n",
    "plt.grid(True)\n",
    "plt.show()"
   ]
  },
  {
   "cell_type": "markdown",
   "id": "f934ddd6-7fc4-4ffa-a210-6bb6d804d61d",
   "metadata": {},
   "source": [
    "**(e)** Plot the length of the output file as $k$ varies from 4 to 16. Plot a horizontal\n",
    "line at $n \\times H(x)$, where $n$ is the length of the input file `p2c.txt` and $H(x)$ for\n",
    "$p=0.003$.  Plot a second horizontal line for the length of the\n",
    "file `p2c.txt.gz`. The value $n \\times H(X)$ represents the theoretical lower bound \n",
    "achievable for lossless compression.  NOTE: To make this fair, consider the length in \n",
    "units of symbols.  Since your symbols are ascii characters, multiply the length of \n",
    "the gzip file by 8.\n"
   ]
  },
  {
   "cell_type": "code",
   "execution_count": 166,
   "id": "901147e2-4a97-426a-9145-5b877ef2783a",
   "metadata": {},
   "outputs": [
    {
     "data": {
      "image/png": "[encoded data removed]",
      "text/plain": [
       "<Figure size 800x600 with 1 Axes>"
      ]
     },
     "metadata": {},
     "output_type": "display_data"
    }
   ],
   "source": [
    "def entropy(p):\n",
    "    return -p * log(p,2) + (1-p) * log(1-p,2)\n",
    "\n",
    "k_range = range(4,17)\n",
    "sizes = [len(compress(data, k)) for k in range(4,17)]\n",
    "n = len(data)\n",
    "entropy_len = n * entropy(p=0.003)\n",
    "\n",
    "plt.figure(figsize=(8, 6))\n",
    "plt.plot(k_range, sizes, marker='o', linestyle='-', color='b')\n",
    "plt.axhline(y=entropy_len, color='r', linestyle='--', label='$n\\cdot H(x)$ for p=0.003')\n",
    "plt.axhline(y=os.path.getsize(\"p2c.txt.gz\")*8, color='g', linestyle='--', label='length of p2c.txt.gz')\n",
    "#plt.axhline(y=os.path.getsize(\"p2c.txt\"), color='magenta', linestyle='--', label='uncompressed')\n",
    "\n",
    "plt.ylim(bottom=0)\n",
    "\n",
    "plt.title('File length vs. k')\n",
    "plt.xlabel('k')\n",
    "plt.ylabel('File Length')\n",
    "plt.grid(True)\n",
    "plt.legend()\n",
    "plt.show()"
   ]
  },
  {
   "cell_type": "markdown",
   "id": "733774a1-6978-4779-ba1b-a3b9f779796c",
   "metadata": {},
   "source": [
    "(f) How does $n \\times H(X)$ from (b) compare to the length of the compressed files\n",
    "using your zero run-length encoding vs. gzip?"
   ]
  },
  {
   "cell_type": "markdown",
   "id": "e0641769-7e1b-44ca-bed9-962c5104b2fd",
   "metadata": {},
   "source": [
    "**(g)** EXTRA CREDIT (10%). What happens if the file ends on a zero?  This encoding is only defined for files that end \n",
    "with a 1.  If we modify the encoding so that the last field in the file does not denote a run length but \n",
    "rather is either a 1 or 0 denoting whether the file ends in a complete (1) or incomplete (0) run.   \n",
    "If the file ended on a complete run that means that the last input symbol was a 1.\n",
    "\n",
    "$$\\text{Table 2}$$\n",
    "| input            |  output          | compression$\\dagger$ |  explanation                                     |\n",
    "|-----------------|------------------|--------------|-----------------------------------------------------------|\n",
    "| 1               | 00000001         | 1/8          | zero zeroes then 1. Ending 0001 = complete run            |\n",
    "| 01              | 00010001         | 1/4          | one zero then 1. Ending 0001 = complete run               |\n",
    "| 11              | 000000000001     | 1/6          | 0 zeroes then 1, 0 zeros then 1. 0001 = complete run      |\n",
    "| 0000000001      | 10010001         | 9/8=1.125    | $1001_2=9$, 9 zeroes then 1.  0001 = complete run         |\n",
    "| 0010001         | 001000110001     | 7/8          | $0010_2=2$ zeroes, $0011_2=3$ zeroes. 0001 = complete run |\n",
    "| 32 zeros then 1 | 1111111100100001 | 33/16=2.0625 | $15(1111_2) + 15(1111_2) + 2 = 32$ zeroes then 1          |\n",
    "| 32 zeros        | 1111111100100000 | 33/16=2.0625 | ending 0000 = incomplete run                              |\n",
    "\n",
    "\n",
    "In the last row we reduce 33 input symbols to 12 output symbols.  This has a compression\n",
    "ratio of $33/12 = 2.75$\n",
    "\n",
    "For $p=0.003$, (i.e., the probability of a 1 is 0.3%), implement zero run length encoding. \n",
    "\n",
    "Create a version of your code that handldes `p2c_zero_end.txt.gz` which is the original\n",
    "`p2c.txt.gz` which ended with a zero."
   ]
  },
  {
   "cell_type": "code",
   "execution_count": 185,
   "id": "f17e3f49-e539-4723-a8e8-310b51a33c37",
   "metadata": {},
   "outputs": [
    {
     "name": "stderr",
     "output_type": "stream",
     "text": [
      "test_3_percent (__main__.TestCompress.test_3_percent) ... ok\n",
      "test_complicated_decompression (__main__.TestCompress.test_complicated_decompression) ... ok\n",
      "test_decompression (__main__.TestCompress.test_decompression) ... ok\n",
      "test_edge_cases (__main__.TestCompress.test_edge_cases) ... ok\n",
      "test_more_complicated_cases (__main__.TestCompress.test_more_complicated_cases) ... ok\n",
      "test_p2c (__main__.TestCompress.test_p2c) ... ok\n",
      "test_simple_cases (__main__.TestCompress.test_simple_cases) ... ok\n",
      "test_decompress2 (__main__.TestCompress2.test_decompress2) ... ok\n",
      "test_edge_cases (__main__.TestCompress2.test_edge_cases) ... ok\n",
      "test_p2c_zero_end (__main__.TestCompress2.test_p2c_zero_end) ... ok\n",
      "test_simple_cases (__main__.TestCompress2.test_simple_cases) ... ok\n",
      "\n",
      "----------------------------------------------------------------------\n",
      "Ran 11 tests in 0.154s\n",
      "\n",
      "OK\n"
     ]
    },
    {
     "data": {
      "text/plain": [
       "<unittest.main.TestProgram at 0x128bd3950>"
      ]
     },
     "execution_count": 185,
     "metadata": {},
     "output_type": "execute_result"
    }
   ],
   "source": [
    "import io\n",
    "import sys\n",
    "import unittest\n",
    "\n",
    "\n",
    "def vassert(exp):\n",
    "    if not exp:\n",
    "        raise ValueError()\n",
    "\n",
    "    \n",
    "# I chose to follow the design pattern used by zlib and zstandard\n",
    "# which allows compression parameter to passed as an optional argument\n",
    "# to a compress method.\n",
    "#\n",
    "# Addendum: as described in the original problem, this encoding\n",
    "# doesn't handle termination properly if the file ends with a zero.\n",
    "# To handle this case, I am adding one additional behavior that is\n",
    "# specific to the last k-width field in the file.  The last field \n",
    "# right before the EOF encodes whether the previous run ended in a \n",
    "# one or zero.  If the last value is a one then the last run ends \n",
    "# with a one.  If the last value is a zero then the last run is an \n",
    "#incomplete run.  \n",
    "def compress2(data: bytes, k: int = 4) -> bytes:\n",
    "    vassert(k > 0)\n",
    "    max_rl = 2**k-1\n",
    "    rl = 0\n",
    "    buffer = bytearray()\n",
    "    \n",
    "    def enc_rl(c: str, rl: int) -> int:\n",
    "        #print(f\"enc_rl: bytes='{c}', rl={rl}\")\n",
    "        if c == '0':\n",
    "            rl += 1\n",
    "            if rl == max_rl:\n",
    "                rlb = bin(rl)[2:].zfill(k).encode('ascii')\n",
    "                buffer.extend(rlb)\n",
    "                rl = 0\n",
    "        elif c == '1':\n",
    "            rlb = bin(rl)[2:].zfill(k).encode('ascii')\n",
    "            buffer.extend(rlb)\n",
    "            rl = 0\n",
    "        return rl\n",
    "    \n",
    "    prev = b\"\"\n",
    "    for d in data:\n",
    "        c = chr(d)\n",
    "        if len(prev) != 0:\n",
    "            rl = enc_rl(prev, rl)\n",
    "        prev = c\n",
    "\n",
    "    # handle the last run\n",
    "    else:\n",
    "        max_rl = rl + 1;  # force output if an incomplete run.\n",
    "        enc_rl(prev, rl)\n",
    "        \n",
    "        if prev == \"0\":  # incomplete run\n",
    "            buffer.extend(b\"0\".zfill(k))\n",
    "            \n",
    "        elif prev == \"1\": # complete run\n",
    "            buffer.extend(b\"1\".zfill(k))        \n",
    "    return bytes(buffer)\n",
    "\n",
    "def decompress2(data: bytes, k: int = 4) -> bytes:\n",
    "    vassert(k > 0)\n",
    "    maxrl = 2**k-1\n",
    "    dio = io.BytesIO(data)\n",
    "    buffer = bytearray()\n",
    "    rlbytes = dio.read(k)\n",
    "    while True:\n",
    "        prev_rlbytes = rlbytes\n",
    "        rlbytes = dio.read(k)\n",
    "        if len(rlbytes) == 0:  # EOF\n",
    "            if len(prev_rlbytes) != 0:\n",
    "                complete_run = int(prev_rlbytes.decode('ascii')) == 1\n",
    "                if not complete_run:\n",
    "                    # pop the last 1 that had been added.\n",
    "                    buffer = buffer[:-1]\n",
    "            break\n",
    "        \n",
    "        rl = int(prev_rlbytes.decode('ascii'), 2)\n",
    "        buffer.extend(b\"0\"*rl)\n",
    "        if rl != maxrl:\n",
    "            buffer.append(ord(\"1\"))\n",
    "    return buffer        \n",
    "\n",
    "class TestCompress2(unittest.TestCase):\n",
    "    def test_edge_cases(self):\n",
    "        try:\n",
    "            compress2(None)\n",
    "            self.assertTrue(False)\n",
    "        except:\n",
    "            pass\n",
    "\n",
    "        try:\n",
    "            compress2(b\"010\", -1)\n",
    "            self.assertTrue(False)\n",
    "        except ValueError:\n",
    "            pass\n",
    "\n",
    "        buf = compress(b\"\")\n",
    "        self.assertEqual(len(buf), 0)\n",
    "\n",
    "    def test_simple_cases(self):\n",
    "        # This does not handle terminating edge condtion well. An ending 0000\n",
    "        buf = compress2(b\"1\")\n",
    "        self.assertEqual(buf, b\"00000001\") # 0000 for 1, 0001 to denote complete run.\n",
    "\n",
    "        buf = compress2(b\"0\")\n",
    "        self.assertEqual(buf, b\"00010000\") # 0001 for a run of 1 zero. 0000 to denote an incomplete run.\n",
    "\n",
    "        buf = compress2(b\"01\")\n",
    "        self.assertEqual(buf, b\"00010001\")\n",
    "\n",
    "        buf = compress2(b\"11\")\n",
    "        self.assertEqual(buf, b\"000000000001\")\n",
    "\n",
    "        buf = compress2(b\"00\", k=3)\n",
    "        self.assertEqual(buf, b\"010000\")\n",
    "\n",
    "    def test_decompress2(self):\n",
    "        self.assertEqual(decompress2(compress2(b\"1\")), b\"1\")\n",
    "        self.assertEqual(decompress2(compress2(b\"01\")), b\"01\")\n",
    "        self.assertEqual(decompress2(compress2(b\"11\")), b\"11\")\n",
    "        \n",
    "    def test_p2c_zero_end(self):\n",
    "        with open(\"p2c_zero_end.txt\", \"rb\") as fp:\n",
    "            buf = fp.read()\n",
    "        self.assertEqual(decompress2(compress2(buf)), buf)\n",
    "\n",
    "\n",
    "unittest.main(argv=[''], verbosity=2, exit=False)  \n"
   ]
  },
  {
   "cell_type": "markdown",
   "id": "93d0aba6-0343-47d0-876b-a75775568638",
   "metadata": {},
   "source": [
    "The following plot isn't required for extra credit, but it is a sanity check to ensure that the \n",
    "additional field appended to the end doesn't otherwise affect efficiency of the compression."
   ]
  },
  {
   "cell_type": "code",
   "execution_count": 194,
   "id": "dc2988a0-73a7-4bba-8bba-1947f1ce6ab0",
   "metadata": {},
   "outputs": [
    {
     "name": "stdout",
     "output_type": "stream",
     "text": [
      "sizes: [272320, 168720, 104382, 66290, 44824, 34479, 31630, 33165, 36120, 39130, 42140, 45150, 48160]\n",
      "sizes2: [272324, 168725, 104388, 66297, 44832, 34488, 31640, 33176, 36132, 39143, 42154, 45165, 48176]\n"
     ]
    },
    {
     "data": {
      "image/png": "[encoded data removed]",
      "text/plain": [
       "<Figure size 800x600 with 1 Axes>"
      ]
     },
     "metadata": {},
     "output_type": "display_data"
    }
   ],
   "source": [
    "k_range = range(4,17)\n",
    "sizes = [len(compress(data, k)) for k in range(4,17)]\n",
    "sizes2 = [len(compress2(data, k)) for k in range(4,17)]\n",
    "print(f\"sizes: {sizes}\")\n",
    "print(f\"sizes2: {sizes2}\")\n",
    "for s1, s2 in zip(sizes, sizes2):\n",
    "    assert s2 > s1\n",
    "n = len(data)\n",
    "entropy_len = n * entropy(p=0.003)\n",
    "\n",
    "plt.figure(figsize=(8, 6))\n",
    "plt.plot(k_range, sizes, marker='o', linestyle='-', color='b', label=\"compress\")\n",
    "plt.plot(k_range, sizes2, marker='o', linestyle='-', color='g', label=\"compress2\")\n",
    "plt.axhline(y=entropy_len, color='r', linestyle='--', label='$n\\cdot H(x)$ for p=0.003')\n",
    "plt.axhline(y=os.path.getsize(\"p2c.txt.gz\")*8, color='g', linestyle='--', label='length of p2c.txt.gz')\n",
    "#plt.axhline(y=os.path.getsize(\"p2c.txt\"), color='magenta', linestyle='--', label='uncompressed')\n",
    "\n",
    "plt.ylim(bottom=0)\n",
    "\n",
    "plt.title('File length vs. k')\n",
    "plt.xlabel('k')\n",
    "plt.ylabel('File Length')\n",
    "plt.grid(True)\n",
    "plt.legend()\n",
    "plt.show()"
   ]
  },
  {
   "cell_type": "markdown",
   "id": "408c0441-e637-4739-9c82-c963cb79d457",
   "metadata": {},
   "source": [
    "**Problem 3**\n",
    "\n",
    "In classification problems, our classifier estimates the posterior \n",
    "probability $P(\\omega_i | \\bar{x})$ for every class.\n",
    "This can be expressed as a vector of probabilities.\n",
    "For example, if we are in the region of ambiguity for three different classes\n",
    "such that $P(\\omega_1 | \\bar{x}) = 0.3$, $P(\\omega_2 | \\bar{x}) = 0.5$\n",
    "and $P(\\omega_3 | \\bar{x}) = 0.2$.  The classifier doesn't know the \n",
    "true posterior probabilities so it estimates them.  \n",
    "\n",
    "Let $\\hat{P}(\\omega_j | \\bar{x})$ denote the estimated posterior probability\n",
    "of class $j$ given feature vector $\\bar{x}$.  The estimated posterior\n",
    "probability is called the *predicted probability*.\n",
    "\n",
    "Let $y$ denote the true class.  When discussing training sets, in\n",
    "previous lectures we introduced $y^{(i)}$ as a scalar denoting the \n",
    "true class for the $i$th observation $(\\mathbf{x}^{(i)}, y^{(i)})$.\n",
    "We continue to use $y^{(i)}$ notation in the context of training sets.\n",
    "\n",
    "Let $\\hat{y}_j$ denotes the predicted probability for class $j$.\n",
    "$\\hat{y}_j$ estimates the posterior probability. Meaning\n",
    "\n",
    "$$\\hat{y}_j = \\hat{P}(\\omega_j | \\bar{x}) \\hspace{2in} (3.1)$$\n",
    "\n",
    "Let $\\mathbf{\\hat{y}}$ denote the column vector of the predicted \n",
    "probabilities.\n",
    "\n",
    "$$\n",
    "\\mathbf{\\hat{y}} = \\begin{bmatrix}\n",
    "\\hat{P}(y = 1 | \\mathbf{x}) \\\\\n",
    "\\hat{P}(y = 2 | \\mathbf{x}) \\\\\n",
    "\\vdots \\\\\n",
    "\\hat{P}(y = K | \\mathbf{x})\n",
    "\\end{bmatrix}\n",
    "$$\n",
    "\n",
    "An accurate classifier would closely model the posterior\n",
    "probabilities such that\n",
    "\n",
    "$$\n",
    "\\mathbf{\\hat{y}} \\approx \\begin{bmatrix}\n",
    "P(y = 1 | \\mathbf{x}) \\\\\n",
    "P(y = 2 | \\mathbf{x}) \\\\\n",
    "\\vdots \\\\\n",
    "P(y = K | \\mathbf{x})\n",
    "\\end{bmatrix}\n",
    "$$\n",
    "\n",
    "Thus for the example probabilities $P(\\omega_1 | \\bar{x}) = 0.3$, $P(\\omega_2 | \\bar{x}) = 0.5$\n",
    "and $P(\\omega_3 | \\bar{x}) = 0.2$, $\\mathbf{\\hat{y}}$ becomes\n",
    "\n",
    "$$\n",
    "\\mathbf{\\hat{y}} \\approx \\begin{bmatrix}\n",
    "0.3 \\\\\n",
    "0.2 \\\\\n",
    "0.5\n",
    "\\end{bmatrix}\n",
    "$$"
   ]
  },
  {
   "cell_type": "markdown",
   "id": "717cb7fc-1191-4b18-82fb-2d364933a41e",
   "metadata": {},
   "source": [
    "Cross-entropy is a widely used loss function in\n",
    "machine learning, especially for multi-class classification tasks, \n",
    "because it measures a notion of distance between the predicted probability\n",
    "distribution and the true distribution.\n",
    "\n",
    "The cross-entropy between two probability distributions $P$ and $Q$\n",
    "over the same set of events is defined as:\n",
    "\n",
    "$$H(P, Q) = - \\sum_{j} P(j) \\log Q(j)$$\n",
    "\n",
    "For classification we replace $P$ with a distribution that places\n",
    "100% of the probabilty on the correct class, and we replace\n",
    "$Q$ with $\\mathbf{\\hat{y}}$.\n",
    "\n",
    "In other words\n",
    "$P(y=k) = 1$ where $k$ is the true class and for all $j\\neq k$, \n",
    "$P(y = j) = 0$.  This probability assignment can be represented using\n",
    "an indicator function.\n",
    "\n",
    "An indicator function is defined by\n",
    "\n",
    "$$\n",
    "\\mathbb{1}\\{ y = k \\} =\n",
    "\\begin{cases}\n",
    "1 & \\text{if } y = k \\\\\n",
    "0 & \\text{if } y \\neq k\n",
    "\\end{cases}\n",
    "$$\n",
    "\n",
    "Using an indicator function, cross entropy becomes\n",
    "\n",
    "$$H(\\mathbb{1}\\{ y = k \\}, \\mathbf{\\hat{y}}) = - \\sum_{j=1}^K \\mathbb{1}\\{ y = k \\} \\log \\mathbf{\\hat{y}}_j \\hspace{2in} (3.2)$$\n",
    "\n",
    "\n"
   ]
  },
  {
   "cell_type": "markdown",
   "id": "61f7b2de-14e2-4b85-a6e5-e76246675296",
   "metadata": {},
   "source": [
    "\n",
    "Indicator functions are commonly used, but I prefer a less heavy notation using\n",
    "what is called a *one-hot vector*.  As with indicator functions, one-hot vectors\n",
    "are also heavily used in machine learning."
   ]
  },
  {
   "cell_type": "markdown",
   "id": "b435c7bf-675a-4fda-87df-d034a1d9e57f",
   "metadata": {},
   "source": [
    "Let $\\mathbf{y}(k)$ denote the one-hot vector wherein $y=k$ corresponds to the \n",
    "$k$th element being 1, e.g.,\n",
    "\n",
    "$$\n",
    "\\mathbf{y}(k) = \\begin{bmatrix}\n",
    "0 \\\\\n",
    "0 \\\\\n",
    "\\vdots \\\\\n",
    "0 \\\\\n",
    "1 \\\\\n",
    "0 \\\\\n",
    "\\vdots \\\\\n",
    "0\n",
    "\\end{bmatrix}\n",
    "$$\n",
    "\n",
    "where the $1$ above appears in the $k$th row of the column vector.\n",
    "\n",
    "For brevity, we may simply refer to the one-hot vector as $\\mathbf{y}$.  Note that $y$ is a \n",
    "scalar denoting the true class, and $\\mathbf{y}$ is the one-hot vector with 100% of the\n",
    "probability at the index of the true class.\n",
    "\n",
    "Using matrix notation, (3.2) can be restated as \n",
    "\n",
    "$$H(\\mathbf{y}, \\mathbf{\\hat{y}}) = - \\mathbf{y}^T \\log \\mathbf{\\hat{y}} \\hspace{2in} (3.3)$$\n",
    "\n",
    "In classification problems, the loss function is often denoted by a calligraphic L, i.e.,\n",
    "$\\mathcal{L}$, thus when we use cross-entropy $H$ as a loss function, we rewrite (3.3) as\n",
    "\n",
    "$$\\mathcal{L}(\\mathbf{y}, \\mathbf{\\hat{y}}) = - \\mathbf{y}^T \\log \\mathbf{\\hat{y}} \\hspace{2in} (3.4)$$"
   ]
  },
  {
   "cell_type": "markdown",
   "id": "b3fbb86f-a1d6-4682-ad4a-b39a5ff5801d",
   "metadata": {},
   "source": [
    "**(a)** Suppose we have a four-class classification problem \n",
    "$K = 4$, and for a particular data point, the true label is $y=3$. Write the one-hot vector $\\mathbf{y}$ for y=3.\n"
   ]
  },
  {
   "cell_type": "markdown",
   "id": "0e8cb3c2-9e23-4e9c-87be-8f7ddc642378",
   "metadata": {},
   "source": [
    "**Answer 3(a):**\n",
    "\n",
    "$$\\mathbf{y} = \\begin{bmatrix}\n",
    "  0 \\\\\n",
    "  0 \\\\\n",
    "  1 \\\\\n",
    "  0\n",
    "\\end{bmatrix}\n",
    "$$"
   ]
  },
  {
   "cell_type": "markdown",
   "id": "f02777f5-5f91-4366-bb37-ba99214fd0cf",
   "metadata": {},
   "source": [
    "**(b)** The predicted probability vector $\\mathbf{\\hat{y}}$ for this data point\n",
    "output from our model is:\n",
    "\n",
    "$$\n",
    "\\mathbf{\\hat{y}} = \\begin{bmatrix}\n",
    "0.1 \\\\\n",
    "0.2 \\\\\n",
    "0.6 \\\\\n",
    "0.1\n",
    "\\end{bmatrix}\n",
    "$$\n",
    "\n",
    "Compute the cross-entropy loss $\\mathcal{L}$ when y = 3."
   ]
  },
  {
   "cell_type": "markdown",
   "id": "ddd88912-c9be-4fdb-9b75-fbe0b0a95d56",
   "metadata": {},
   "source": [
    "**Answer 3(b)**\n",
    "\n",
    "\n",
    "The problem does not clearly stipulate whether we use $\\log_2$ or $\\ln$.  The result would be\n",
    "a constant factor between them but this would affect all losses proportionally and thus the relative\n",
    "loss would be the same.  It wouldn't affect convergence on the estimated posterior probabilities\n",
    "for each class when we're using loss to drive learning (e.g., using gradient descent... which admittedly\n",
    "we have not discussed yet).\n",
    "\n",
    "Thus we accept either answer.\n",
    "\n",
    "\\begin{align}\n",
    "\\mathcal{L}(\\mathbf{y}, \\mathbf{\\hat{y}}) &= - \\mathbf{y}^T \\ln \\mathbf{\\hat{y}} \\\\\n",
    "    &= -1 \\cdot \\ln 0.6 \\approx 0.511\n",
    "\\end{align}\n",
    "\n",
    "or \n",
    "\n",
    "\\begin{align}\n",
    "\\mathcal{L}(\\mathbf{y}, \\mathbf{\\hat{y}}) &= - \\mathbf{y}^T \\log_2 \\mathbf{\\hat{y}} \\\\\n",
    "    &= -1 \\cdot \\log_2 0.6 \\approx 0.737\n",
    "\\end{align}\n"
   ]
  },
  {
   "cell_type": "markdown",
   "id": "fd31cad9-8f45-42bc-9146-693190125ab4",
   "metadata": {},
   "source": [
    "**(c)** If the true class were $y=1$, what would $\\mathcal{L}$ equal?"
   ]
  },
  {
   "cell_type": "markdown",
   "id": "f85298ef-e37d-4dcc-9e8c-585d49058729",
   "metadata": {},
   "source": [
    "**Answer (c)**\n",
    "\n",
    "\\begin{align}\n",
    "\\mathcal{L}(\\mathbf{y}, \\mathbf{\\hat{y}}) &= - \\mathbf{y}^T \\ln \\mathbf{\\hat{y}} \\\\\n",
    "    &= -1 \\cdot \\ln 0.1 \\approx 2.302\n",
    "\\end{align}\n",
    "\n",
    "or \n",
    "\n",
    "\\begin{align}\n",
    "\\mathcal{L}(\\mathbf{y}, \\mathbf{\\hat{y}}) &= - \\mathbf{y}^T \\log_2 \\mathbf{\\hat{y}} \\\\\n",
    "    &= -1 \\cdot \\log_2 0.1 \\approx 3.322\n",
    "\\end{align}\n"
   ]
  },
  {
   "cell_type": "markdown",
   "id": "9bcb486c-0dc9-4634-a69e-b9cbcc529503",
   "metadata": {},
   "source": [
    "**(d)** If the predicted probability vector is itself a one-hot vector where $\\hat{y}_k = 1$ and the true class is $y=k$, what is the loss $\\mathcal{L}$? "
   ]
  },
  {
   "cell_type": "markdown",
   "id": "0adcea6e-dba3-4ceb-8895-38f0a9f0f21f",
   "metadata": {},
   "source": [
    "**Answwer (d)**\n",
    "\n",
    "$$\\mathcal{L}(\\mathbf{y}, \\mathbf{\\hat{y}}) = -1 \\log 1 = 0$$\n",
    "\n",
    "In other words, no loss.\n"
   ]
  },
  {
   "cell_type": "markdown",
   "id": "827db772-0b9d-411b-98dc-98b172e29457",
   "metadata": {},
   "source": [
    "**(e)** The classifier is certain that $\\mathbf{x}$ corresponds to class 4, i.e., $\\hat{y}_4 = 1$, but the true class is $y=3$.  What happens to $\\mathcal{L}$.  Aside: this problem can be avoided by clipping the predicted probabilities such that \n",
    "$\\hat{y}_k \\in [\\epsilon, 1 - \\epsilon]$ where $\\epsilon$  is a small value like $10^{-8}$, to avoid $\\log(0)$ and $\\log(1)$.\n"
   ]
  },
  {
   "cell_type": "markdown",
   "id": "eda4d9dd-65d5-433e-a390-3069def5e071",
   "metadata": {},
   "source": []
  },
  {
   "cell_type": "markdown",
   "id": "e26327ed-4025-41da-8787-ed1d587731b4",
   "metadata": {},
   "source": [
    "**Answwer (e)**\n",
    "\n",
    "$$\\mathcal{L}(\\mathbf{y}, \\mathbf{\\hat{y}}) = -\\begin{bmatrix}\n",
    "0 \\\\\n",
    "0 \\\\\n",
    "1 \\\\\n",
    "0\n",
    "\\end{bmatrix}^T \\log\n",
    "\\begin{bmatrix}\n",
    "1 \\\\\n",
    "0 \\\\\n",
    "0 \\\\\n",
    "0\n",
    "\\end{bmatrix} = -0 \\log 1 - 0 \\log 0 - 1 \\log 0 - 0 \\log 0\\hspace{1in}(3.1)$$\n",
    "\n",
    "\n",
    "The \n",
    "\n",
    "$$\\lim_{x \\to 0^+} x \\log(x) = 0$$\n",
    "\n",
    "can be derived using L’Hopital’s Rule.  As such it seems justified to set the $0 \\log 0$ \n",
    "terms to 0.  \n",
    "\n",
    "$0 \\log 1 = 0 \\cdot 0 = 0$ which presents no difficulty.\n",
    "\n",
    "$(3.1)$ thus becomes.\n",
    "\n",
    "$$-1 \\log 0 = ?$$\n",
    "\n",
    "If take the limit \n",
    "\n",
    "$$\n",
    "-\\lim_{x \\to 0^+} \\log(x) = \\infty.\n",
    "$$\n",
    "\n",
    "If we use a similar argument to how we eliminated the $0 \\log 0$ then we would set\n",
    "$\\mathcal{L}$ to $\\infty$.  Otherwise we end up with $\\mathcal{L}$ being undefined.\n",
    "If we were computing a gradient for adjusting weights in a neural network, \n",
    "an $\\infty$ gradient would break learning.  \n",
    "\n",
    "Hence we either clamp loss or clamp the magnitude of the final gradient vector.  We'll talk about\n",
    "gradient vectors and gradient descent when we introduce logistic regression.\n",
    "\n",
    "My answer is quite verbose.  We accepted simply $\\infty$ as a valid answer.\n"
   ]
  }
 ],
 "metadata": {
  "kernelspec": {
   "display_name": "Python 3 (ipykernel)",
   "language": "python",
   "name": "python3"
  },
  "language_info": {
   "codemirror_mode": {
    "name": "ipython",
    "version": 3
   },
   "file_extension": ".py",
   "mimetype": "text/x-python",
   "name": "python",
   "nbconvert_exporter": "python",
   "pygments_lexer": "ipython3",
   "version": "3.11.7"
  }
 },
 "nbformat": 4,
 "nbformat_minor": 5
}
